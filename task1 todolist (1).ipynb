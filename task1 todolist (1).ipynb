{
 "cells": [
  {
   "cell_type": "raw",
   "id": "ae092b2f",
   "metadata": {},
   "source": []
  },
  {
   "cell_type": "code",
   "execution_count": 5,
   "id": "c36d5420",
   "metadata": {},
   "outputs": [
    {
     "name": "stdout",
     "output_type": "stream",
     "text": [
      "Enter choice\n",
      "1.Create task\n",
      "2.Update task\n",
      "3.Show task\n",
      "4.Delete task\n",
      "5.Exit\n"
     ]
    },
    {
     "name": "stdin",
     "output_type": "stream",
     "text": [
      " 1\n",
      "Enter a task: reading\n"
     ]
    },
    {
     "name": "stdout",
     "output_type": "stream",
     "text": [
      "Task created\n",
      "Enter choice\n",
      "1.Create task\n",
      "2.Update task\n",
      "3.Show task\n",
      "4.Delete task\n",
      "5.Exit\n"
     ]
    },
    {
     "name": "stdin",
     "output_type": "stream",
     "text": [
      " 2\n",
      "Enter the task to be updated: reading\n",
      "Enter the new task: read\n"
     ]
    },
    {
     "name": "stdout",
     "output_type": "stream",
     "text": [
      "Enter choice\n",
      "1.Create task\n",
      "2.Update task\n",
      "3.Show task\n",
      "4.Delete task\n",
      "5.Exit\n"
     ]
    },
    {
     "name": "stdin",
     "output_type": "stream",
     "text": [
      " 3\n"
     ]
    },
    {
     "name": "stdout",
     "output_type": "stream",
     "text": [
      "1 read\n",
      "Enter choice\n",
      "1.Create task\n",
      "2.Update task\n",
      "3.Show task\n",
      "4.Delete task\n",
      "5.Exit\n"
     ]
    },
    {
     "name": "stdin",
     "output_type": "stream",
     "text": [
      " 4\n",
      "Enter the task to be deleted read\n"
     ]
    },
    {
     "name": "stdout",
     "output_type": "stream",
     "text": [
      "Enter choice\n",
      "1.Create task\n",
      "2.Update task\n",
      "3.Show task\n",
      "4.Delete task\n",
      "5.Exit\n"
     ]
    },
    {
     "name": "stdin",
     "output_type": "stream",
     "text": [
      " 3\n"
     ]
    },
    {
     "name": "stdout",
     "output_type": "stream",
     "text": [
      "No tasks\n",
      "Enter choice\n",
      "1.Create task\n",
      "2.Update task\n",
      "3.Show task\n",
      "4.Delete task\n",
      "5.Exit\n"
     ]
    },
    {
     "name": "stdin",
     "output_type": "stream",
     "text": [
      " 5\n"
     ]
    }
   ],
   "source": [
    "def fd_task(task,t):\n",
    "    if t not in task:\n",
    "        print(\"Task not found\")\n",
    "        return -1\n",
    "    for i in range(len(task)):\n",
    "        if task[i]==t:\n",
    "            return i\n",
    "\n",
    "task=[]\n",
    "while(True):\n",
    "    print(\"Enter choice\")\n",
    "    print(\"1.Create task\")\n",
    "    print(\"2.Update task\")\n",
    "    print(\"3.Show task\")\n",
    "    print(\"4.Delete task\")\n",
    "    print(\"5.Exit\")\n",
    "    ch=int(input())\n",
    "    if ch==1:\n",
    "        t=input(\"Enter a task:\")\n",
    "        task.append(t)\n",
    "        print(\"Task created\")\n",
    "    elif ch==2:\n",
    "        u=input(\"Enter the task to be updated:\")\n",
    "        pos=fd_task(task,u)\n",
    "        if pos!=-1:\n",
    "            task[pos]=input(\"Enter the new task:\")\n",
    "    elif ch==3:\n",
    "        if len(task)==0:\n",
    "            print(\"No tasks\")\n",
    "        for i in range(len(task)):\n",
    "            print(i+1,task[i])\n",
    "    elif ch==4:\n",
    "        d=input(\"Enter the task to be deleted\")\n",
    "        pos=fd_task(task,d)\n",
    "        if pos!=-1:\n",
    "            task.pop(pos)\n",
    "    elif ch==5:\n",
    "        break\n",
    "    else:\n",
    "        print(\"Invalid choice\")\n",
    "    "
   ]
  },
  {
   "cell_type": "code",
   "execution_count": null,
   "id": "ce040841",
   "metadata": {},
   "outputs": [],
   "source": []
  }
 ],
 "metadata": {
  "kernelspec": {
   "display_name": "Python 3 (ipykernel)",
   "language": "python",
   "name": "python3"
  },
  "language_info": {
   "codemirror_mode": {
    "name": "ipython",
    "version": 3
   },
   "file_extension": ".py",
   "mimetype": "text/x-python",
   "name": "python",
   "nbconvert_exporter": "python",
   "pygments_lexer": "ipython3",
   "version": "3.12.3"
  }
 },
 "nbformat": 4,
 "nbformat_minor": 5
}
