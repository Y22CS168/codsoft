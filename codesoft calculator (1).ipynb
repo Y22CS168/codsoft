{
 "cells": [
  {
   "cell_type": "code",
   "execution_count": 4,
   "id": "f16cfd8f",
   "metadata": {},
   "outputs": [
    {
     "name": "stdin",
     "output_type": "stream",
     "text": [
      "Enter first number: 5\n",
      "Enter second number: 5\n",
      "Enter the operator: +\n"
     ]
    },
    {
     "name": "stdout",
     "output_type": "stream",
     "text": [
      "5 + 5 = 10\n",
      "Do you want to continue(Enter y)\n"
     ]
    },
    {
     "name": "stdin",
     "output_type": "stream",
     "text": [
      " y\n",
      "Enter first number: 5\n",
      "Enter second number: 5\n",
      "Enter the operator: -\n"
     ]
    },
    {
     "name": "stdout",
     "output_type": "stream",
     "text": [
      "5 - 5 = 0\n",
      "Do you want to continue(Enter y)\n"
     ]
    },
    {
     "name": "stdin",
     "output_type": "stream",
     "text": [
      " y\n",
      "Enter first number: 5\n",
      "Enter second number: 5\n",
      "Enter the operator: *\n"
     ]
    },
    {
     "name": "stdout",
     "output_type": "stream",
     "text": [
      "5 * 5 = 25\n",
      "Do you want to continue(Enter y)\n"
     ]
    },
    {
     "name": "stdin",
     "output_type": "stream",
     "text": [
      " y\n",
      "Enter first number: 5\n",
      "Enter second number: 0\n",
      "Enter the operator: /\n"
     ]
    },
    {
     "name": "stdout",
     "output_type": "stream",
     "text": [
      "Division not possible\n",
      "Do you want to continue(Enter y)\n"
     ]
    },
    {
     "name": "stdin",
     "output_type": "stream",
     "text": [
      " 5\n"
     ]
    }
   ],
   "source": [
    "while(True):\n",
    "    n1=int(input(\"Enter first number:\"))\n",
    "    n2=int(input(\"Enter second number:\"))\n",
    "    op=input(\"Enter the operator:\")\n",
    "    if op=='+':\n",
    "        print(n1,'+',n2,'=',n1+n2)\n",
    "    elif  op=='-':\n",
    "        print(n1,'-',n2,'=',n1-n2)\n",
    "    elif op=='*':\n",
    "        print(n1,'*',n2,'=',n1*n2)\n",
    "    elif op=='/':\n",
    "        if(n2==0):\n",
    "            print(\"Division not possible\")\n",
    "        else:\n",
    "            print(n1,'/',n2,'=',n1/n2)\n",
    "    else:\n",
    "        print(\"invalid operator\")\n",
    "    print(\"Do you want to continue(Enter y)\")\n",
    "    p=input()\n",
    "    if (p!='y' and p!='Y'):\n",
    "        break\n"
   ]
  },
  {
   "cell_type": "code",
   "execution_count": null,
   "id": "9cb956d7",
   "metadata": {},
   "outputs": [],
   "source": []
  }
 ],
 "metadata": {
  "kernelspec": {
   "display_name": "Python 3 (ipykernel)",
   "language": "python",
   "name": "python3"
  },
  "language_info": {
   "codemirror_mode": {
    "name": "ipython",
    "version": 3
   },
   "file_extension": ".py",
   "mimetype": "text/x-python",
   "name": "python",
   "nbconvert_exporter": "python",
   "pygments_lexer": "ipython3",
   "version": "3.12.3"
  }
 },
 "nbformat": 4,
 "nbformat_minor": 5
}
