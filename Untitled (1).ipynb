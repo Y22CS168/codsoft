{
 "cells": [
  {
   "cell_type": "code",
   "execution_count": 1,
   "id": "9cb956d7",
   "metadata": {},
   "outputs": [],
   "source": [
    "import random"
   ]
  },
  {
   "cell_type": "code",
   "execution_count": 3,
   "id": "72743fe7",
   "metadata": {},
   "outputs": [
    {
     "name": "stdin",
     "output_type": "stream",
     "text": [
      "Enter your choice:- rock\n"
     ]
    },
    {
     "name": "stdout",
     "output_type": "stream",
     "text": [
      "User choice: rock\n",
      "Computer choice: scissor\n",
      "You win\n",
      "Your score: 1\n",
      "Computer's score: 0\n"
     ]
    },
    {
     "name": "stdin",
     "output_type": "stream",
     "text": [
      "Do you want to continue(y/n): y\n",
      "Enter your choice:- paper\n"
     ]
    },
    {
     "name": "stdout",
     "output_type": "stream",
     "text": [
      "User choice: paper\n",
      "Computer choice: scissor\n",
      "You lose\n",
      "Your score: 1\n",
      "Computer's score: 1\n"
     ]
    },
    {
     "name": "stdin",
     "output_type": "stream",
     "text": [
      "Do you want to continue(y/n): n\n"
     ]
    }
   ],
   "source": [
    "u_score=0\n",
    "com_score=0\n",
    "while(True):\n",
    "    us=input(\"Enter your choice:-\").strip().lower()\n",
    "    if us in ['rock','paper','scissor']:\n",
    "        comp=random.choice(['rock','paper','scissor'])\n",
    "        print(\"User choice:\",us)\n",
    "        print(\"Computer choice:\",comp)\n",
    "        if us==comp:\n",
    "            print(\"It's a tie\")\n",
    "        elif ((us=='rock' and comp=='paper') or\n",
    "              (us=='paper' and comp=='scissor') or\n",
    "              (us=='scissor' and comp=='rock')):\n",
    "            print(\"You lose\")\n",
    "            com_score+=1\n",
    "        else:\n",
    "            print(\"You win\")\n",
    "            u_score+=1\n",
    "        print(\"Your score:\",u_score)\n",
    "        print(\"Computer's score:\",com_score)\n",
    "    else:\n",
    "        print(\"Invalid choice\")\n",
    "    s=input(\"Do you want to continue(y/n):\").strip().lower()\n",
    "    if s!='y':\n",
    "        break;\n",
    "            "
   ]
  },
  {
   "cell_type": "code",
   "execution_count": null,
   "id": "2aa7bcd4",
   "metadata": {},
   "outputs": [],
   "source": []
  }
 ],
 "metadata": {
  "kernelspec": {
   "display_name": "Python 3 (ipykernel)",
   "language": "python",
   "name": "python3"
  },
  "language_info": {
   "codemirror_mode": {
    "name": "ipython",
    "version": 3
   },
   "file_extension": ".py",
   "mimetype": "text/x-python",
   "name": "python",
   "nbconvert_exporter": "python",
   "pygments_lexer": "ipython3",
   "version": "3.12.3"
  }
 },
 "nbformat": 4,
 "nbformat_minor": 5
}
